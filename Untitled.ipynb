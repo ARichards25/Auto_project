{
 "cells": [
  {
   "cell_type": "code",
   "execution_count": null,
   "id": "f68e159c",
   "metadata": {},
   "outputs": [],
   "source": [
    "library(pandas)\n",
    "library(tidyverse)\n",
    "library(GGally)\n",
    "library(rworldmap)\n",
    "library(ggrepel)\n",
    "library(mapproj)"
   ]
  },
  {
   "cell_type": "code",
   "execution_count": null,
   "id": "a7516914",
   "metadata": {},
   "outputs": [],
   "source": []
  }
 ],
 "metadata": {
  "kernelspec": {
   "display_name": "PySpark",
   "language": "",
   "name": "pysparkkernel"
  }
 },
 "nbformat": 4,
 "nbformat_minor": 5
}
