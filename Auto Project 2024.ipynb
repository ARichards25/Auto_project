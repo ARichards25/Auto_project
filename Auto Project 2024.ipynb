{
 "cells": [
  {
   "cell_type": "code",
   "execution_count": 5,
   "id": "66d49afd",
   "metadata": {},
   "outputs": [
    {
     "data": {
      "text/plain": [
       "'/Users/amandarichards25/Documents/GitHub/Auto_project'"
      ]
     },
     "execution_count": 5,
     "metadata": {},
     "output_type": "execute_result"
    }
   ],
   "source": [
    "import pandas as pd\n",
    "import matplotlib.pyplot as plt\n",
    "import seaborn as sns\n",
    "import numpy as np\n",
    "import os\n",
    "os.getcwd()"
   ]
  },
  {
<<<<<<< Updated upstream
   "cell_type": "code",
   "execution_count": 6,
=======
   "cell_type": "markdown",
   "id": "e9112905",
   "metadata": {},
   "source": [
    "Creating dataframes for the tables within the project- \n",
    "Basic Table \n",
    "Sales\n",
    "Trim \n",
    "Price\n",
    "Ad \n",
    "Ad (Extra)"
   ]
  },
  {
   "cell_type": "code",
   "execution_count": 14,
>>>>>>> Stashed changes
   "id": "c314b2f1",
   "metadata": {},
   "outputs": [
    {
<<<<<<< Updated upstream
     "ename": "NameError",
     "evalue": "name 'df' is not defined",
     "output_type": "error",
     "traceback": [
      "\u001b[0;31m---------------------------------------------------------------------------\u001b[0m",
      "\u001b[0;31mNameError\u001b[0m                                 Traceback (most recent call last)",
      "Input \u001b[0;32mIn [6]\u001b[0m, in \u001b[0;36m<cell line: 1>\u001b[0;34m()\u001b[0m\n\u001b[0;32m----> 1\u001b[0m \u001b[43mdf\u001b[49m \u001b[38;5;241m<\u001b[39m\u001b[38;5;241m-\u001b[39m read\u001b[38;5;241m.\u001b[39mcsv(\u001b[38;5;124m\"\u001b[39m\u001b[38;5;124m/Users/amandarichards25/Documents/GitHub/Auto_project/tables_V2/Basic_table.csv\u001b[39m\u001b[38;5;124m\"\u001b[39m)\n",
      "\u001b[0;31mNameError\u001b[0m: name 'df' is not defined"
=======
     "name": "stdout",
     "output_type": "stream",
     "text": [
      "<class 'pandas.core.frame.DataFrame'>\n",
      "RangeIndex: 1011 entries, 0 to 1010\n",
      "Data columns (total 4 columns):\n",
      " #   Column        Non-Null Count  Dtype \n",
      "---  ------        --------------  ----- \n",
      " 0   Automaker     1011 non-null   object\n",
      " 1   Automaker_ID  1011 non-null   int64 \n",
      " 2   Genmodel      1011 non-null   object\n",
      " 3   Genmodel_ID   1011 non-null   object\n",
      "dtypes: int64(1), object(3)\n",
      "memory usage: 31.7+ KB\n"
>>>>>>> Stashed changes
     ]
    }
   ],
   "source": [
<<<<<<< Updated upstream
    "df <- read.csv(\"/Users/amandarichards25/Documents/GitHub/Auto_project/tables_V2/Basic_table.csv\")"
=======
    "data_basic = pd.read_csv(\"/Users/amandarichards25/Documents/GitHub/Auto_project/tables_V2/Basic_table.csv\")\n",
    "data_basic.head()\n",
    "data_basic.info()"
>>>>>>> Stashed changes
   ]
  },
  {
   "cell_type": "code",
<<<<<<< Updated upstream
   "execution_count": 7,
   "id": "39fb74d6",
   "metadata": {},
   "outputs": [
    {
     "ename": "NameError",
     "evalue": "name 'dim' is not defined",
     "output_type": "error",
     "traceback": [
      "\u001b[0;31m---------------------------------------------------------------------------\u001b[0m",
      "\u001b[0;31mNameError\u001b[0m                                 Traceback (most recent call last)",
      "Input \u001b[0;32mIn [7]\u001b[0m, in \u001b[0;36m<cell line: 1>\u001b[0;34m()\u001b[0m\n\u001b[0;32m----> 1\u001b[0m \u001b[43mdim\u001b[49m\u001b[38;5;241m.\u001b[39mdf\n",
      "\u001b[0;31mNameError\u001b[0m: name 'dim' is not defined"
=======
   "execution_count": 15,
   "id": "ae2c78e5",
   "metadata": {},
   "outputs": [
    {
     "name": "stdout",
     "output_type": "stream",
     "text": [
      "<class 'pandas.core.frame.DataFrame'>\n",
      "RangeIndex: 773 entries, 0 to 772\n",
      "Data columns (total 23 columns):\n",
      " #   Column       Non-Null Count  Dtype \n",
      "---  ------       --------------  ----- \n",
      " 0   Maker        773 non-null    object\n",
      " 1   Genmodel     773 non-null    object\n",
      " 2   Genmodel_ID  773 non-null    object\n",
      " 3   2020         773 non-null    int64 \n",
      " 4   2019         773 non-null    int64 \n",
      " 5   2018         773 non-null    int64 \n",
      " 6   2017         773 non-null    int64 \n",
      " 7   2016         773 non-null    int64 \n",
      " 8   2015         773 non-null    int64 \n",
      " 9   2014         773 non-null    int64 \n",
      " 10  2013         773 non-null    int64 \n",
      " 11  2012         773 non-null    int64 \n",
      " 12  2011         773 non-null    int64 \n",
      " 13  2010         773 non-null    int64 \n",
      " 14  2009         773 non-null    int64 \n",
      " 15  2008         773 non-null    int64 \n",
      " 16  2007         773 non-null    int64 \n",
      " 17  2006         773 non-null    int64 \n",
      " 18  2005         773 non-null    int64 \n",
      " 19  2004         773 non-null    int64 \n",
      " 20  2003         773 non-null    int64 \n",
      " 21  2002         773 non-null    int64 \n",
      " 22  2001         773 non-null    int64 \n",
      "dtypes: int64(20), object(3)\n",
      "memory usage: 139.0+ KB\n"
>>>>>>> Stashed changes
     ]
    }
   ],
   "source": [
<<<<<<< Updated upstream
    "dim.df"
=======
    "sales = pd.read_csv(\"/Users/amandarichards25/Documents/GitHub/Auto_project/tables_V2/Sales_table.csv\")\n",
    "sales.head()\n",
    "sales.info()"
>>>>>>> Stashed changes
   ]
  },
  {
   "cell_type": "code",
<<<<<<< Updated upstream
   "execution_count": null,
   "id": "0ffe5602",
=======
   "execution_count": 16,
   "id": "bedf427c",
   "metadata": {},
   "outputs": [
    {
     "name": "stdout",
     "output_type": "stream",
     "text": [
      "<class 'pandas.core.frame.DataFrame'>\n",
      "RangeIndex: 773 entries, 0 to 772\n",
      "Data columns (total 23 columns):\n",
      " #   Column       Non-Null Count  Dtype \n",
      "---  ------       --------------  ----- \n",
      " 0   Maker        773 non-null    object\n",
      " 1   Genmodel     773 non-null    object\n",
      " 2   Genmodel_ID  773 non-null    object\n",
      " 3   2020         773 non-null    int64 \n",
      " 4   2019         773 non-null    int64 \n",
      " 5   2018         773 non-null    int64 \n",
      " 6   2017         773 non-null    int64 \n",
      " 7   2016         773 non-null    int64 \n",
      " 8   2015         773 non-null    int64 \n",
      " 9   2014         773 non-null    int64 \n",
      " 10  2013         773 non-null    int64 \n",
      " 11  2012         773 non-null    int64 \n",
      " 12  2011         773 non-null    int64 \n",
      " 13  2010         773 non-null    int64 \n",
      " 14  2009         773 non-null    int64 \n",
      " 15  2008         773 non-null    int64 \n",
      " 16  2007         773 non-null    int64 \n",
      " 17  2006         773 non-null    int64 \n",
      " 18  2005         773 non-null    int64 \n",
      " 19  2004         773 non-null    int64 \n",
      " 20  2003         773 non-null    int64 \n",
      " 21  2002         773 non-null    int64 \n",
      " 22  2001         773 non-null    int64 \n",
      "dtypes: int64(20), object(3)\n",
      "memory usage: 139.0+ KB\n"
     ]
    }
   ],
   "source": [
    "trim = pd.read_csv(\"/Users/amandarichards25/Documents/GitHub/Auto_project/tables_V2/Sales_table.csv\")\n",
    "trim.head()\n",
    "trim.info()"
   ]
  },
  {
   "cell_type": "code",
   "execution_count": 17,
   "id": "f89a3766",
   "metadata": {},
   "outputs": [
    {
     "data": {
      "text/html": [
       "<div>\n",
       "<style scoped>\n",
       "    .dataframe tbody tr th:only-of-type {\n",
       "        vertical-align: middle;\n",
       "    }\n",
       "\n",
       "    .dataframe tbody tr th {\n",
       "        vertical-align: top;\n",
       "    }\n",
       "\n",
       "    .dataframe thead th {\n",
       "        text-align: right;\n",
       "    }\n",
       "</style>\n",
       "<table border=\"1\" class=\"dataframe\">\n",
       "  <thead>\n",
       "    <tr style=\"text-align: right;\">\n",
       "      <th></th>\n",
       "      <th>Maker</th>\n",
       "      <th>Genmodel</th>\n",
       "      <th>Genmodel_ID</th>\n",
       "      <th>Year</th>\n",
       "      <th>Entry_price</th>\n",
       "    </tr>\n",
       "  </thead>\n",
       "  <tbody>\n",
       "    <tr>\n",
       "      <th>0</th>\n",
       "      <td>Abarth</td>\n",
       "      <td>124 Spider</td>\n",
       "      <td>2_1</td>\n",
       "      <td>2016</td>\n",
       "      <td>29365</td>\n",
       "    </tr>\n",
       "    <tr>\n",
       "      <th>1</th>\n",
       "      <td>Abarth</td>\n",
       "      <td>124 Spider</td>\n",
       "      <td>2_1</td>\n",
       "      <td>2017</td>\n",
       "      <td>26665</td>\n",
       "    </tr>\n",
       "    <tr>\n",
       "      <th>2</th>\n",
       "      <td>Abarth</td>\n",
       "      <td>124 Spider</td>\n",
       "      <td>2_1</td>\n",
       "      <td>2018</td>\n",
       "      <td>26665</td>\n",
       "    </tr>\n",
       "    <tr>\n",
       "      <th>3</th>\n",
       "      <td>Abarth</td>\n",
       "      <td>124 Spider</td>\n",
       "      <td>2_1</td>\n",
       "      <td>2019</td>\n",
       "      <td>29515</td>\n",
       "    </tr>\n",
       "    <tr>\n",
       "      <th>4</th>\n",
       "      <td>Abarth</td>\n",
       "      <td>500</td>\n",
       "      <td>2_2</td>\n",
       "      <td>2009</td>\n",
       "      <td>13400</td>\n",
       "    </tr>\n",
       "  </tbody>\n",
       "</table>\n",
       "</div>"
      ],
      "text/plain": [
       "    Maker    Genmodel Genmodel_ID  Year  Entry_price\n",
       "0  Abarth  124 Spider         2_1  2016        29365\n",
       "1  Abarth  124 Spider         2_1  2017        26665\n",
       "2  Abarth  124 Spider         2_1  2018        26665\n",
       "3  Abarth  124 Spider         2_1  2019        29515\n",
       "4  Abarth         500         2_2  2009        13400"
      ]
     },
     "execution_count": 17,
     "metadata": {},
     "output_type": "execute_result"
    }
   ],
   "source": [
    "price = pd.read_csv(\"/Users/amandarichards25/Documents/GitHub/Auto_project/tables_V2/Price_table.csv\")\n",
    "price.head()"
   ]
  },
  {
   "cell_type": "code",
   "execution_count": 19,
   "id": "04cbae41",
   "metadata": {},
   "outputs": [
    {
     "name": "stderr",
     "output_type": "stream",
     "text": [
      "<ipython-input-19-e92e6cf3749d>:1: DtypeWarning: Columns (13) have mixed types. Specify dtype option on import or set low_memory=False.\n",
      "  ad = pd.read_csv(\"/Users/amandarichards25/Documents/GitHub/Auto_project/tables_V2/Ad_table.csv\")\n"
     ]
    },
    {
     "name": "stdout",
     "output_type": "stream",
     "text": [
      "<class 'pandas.core.frame.DataFrame'>\n",
      "RangeIndex: 268255 entries, 0 to 268254\n",
      "Data columns (total 16 columns):\n",
      " #   Column        Non-Null Count   Dtype  \n",
      "---  ------        --------------   -----  \n",
      " 0   Maker         268255 non-null  object \n",
      " 1   Genmodel      268255 non-null  object \n",
      " 2   Genmodel_ID   268255 non-null  object \n",
      " 3   Adv_ID        268255 non-null  object \n",
      " 4   Adv_year      268255 non-null  int64  \n",
      " 5   Adv_month     268255 non-null  int64  \n",
      " 6   Color         246380 non-null  object \n",
      " 7   Reg_year      268248 non-null  float64\n",
      " 8   Bodytype      267301 non-null  object \n",
      " 9   Runned_Miles  267200 non-null  object \n",
      " 10  Engin_size    266191 non-null  object \n",
      " 11  Gearbox       268088 non-null  object \n",
      " 12  Fuel_type     267846 non-null  object \n",
      " 13  Price         268255 non-null  object \n",
      " 14  Seat_num      261781 non-null  float64\n",
      " 15  Door_num      263702 non-null  float64\n",
      "dtypes: float64(3), int64(2), object(11)\n",
      "memory usage: 32.7+ MB\n"
     ]
    }
   ],
   "source": [
    "ad = pd.read_csv(\"/Users/amandarichards25/Documents/GitHub/Auto_project/tables_V2/Ad_table.csv\")\n",
    "ad.info()"
   ]
  },
  {
   "cell_type": "code",
   "execution_count": 20,
   "id": "59687123",
   "metadata": {},
   "outputs": [
    {
     "data": {
      "text/html": [
       "<div>\n",
       "<style scoped>\n",
       "    .dataframe tbody tr th:only-of-type {\n",
       "        vertical-align: middle;\n",
       "    }\n",
       "\n",
       "    .dataframe tbody tr th {\n",
       "        vertical-align: top;\n",
       "    }\n",
       "\n",
       "    .dataframe thead th {\n",
       "        text-align: right;\n",
       "    }\n",
       "</style>\n",
       "<table border=\"1\" class=\"dataframe\">\n",
       "  <thead>\n",
       "    <tr style=\"text-align: right;\">\n",
       "      <th></th>\n",
       "      <th>Maker</th>\n",
       "      <th>Genmodel</th>\n",
       "      <th>Genmodel_ID</th>\n",
       "      <th>Adv_ID</th>\n",
       "      <th>Adv_year</th>\n",
       "      <th>Adv_month</th>\n",
       "      <th>Color</th>\n",
       "      <th>Reg_year</th>\n",
       "      <th>Bodytype</th>\n",
       "      <th>Runned_Miles</th>\n",
       "      <th>...</th>\n",
       "      <th>Engine_power</th>\n",
       "      <th>Annual_Tax</th>\n",
       "      <th>Wheelbase</th>\n",
       "      <th>Height</th>\n",
       "      <th>Width</th>\n",
       "      <th>Length</th>\n",
       "      <th>Average_mpg</th>\n",
       "      <th>Top_speed</th>\n",
       "      <th>Seat_num</th>\n",
       "      <th>Door_num</th>\n",
       "    </tr>\n",
       "  </thead>\n",
       "  <tbody>\n",
       "    <tr>\n",
       "      <th>0</th>\n",
       "      <td>Bentley</td>\n",
       "      <td>Arnage</td>\n",
       "      <td>10_1</td>\n",
       "      <td>10_1$$1</td>\n",
       "      <td>2018</td>\n",
       "      <td>4</td>\n",
       "      <td>Silver</td>\n",
       "      <td>2000.0</td>\n",
       "      <td>Saloon</td>\n",
       "      <td>60000</td>\n",
       "      <td>...</td>\n",
       "      <td>NaN</td>\n",
       "      <td>NaN</td>\n",
       "      <td>3116.0</td>\n",
       "      <td>1515.0</td>\n",
       "      <td>2125.0</td>\n",
       "      <td>5390.0</td>\n",
       "      <td>NaN</td>\n",
       "      <td>NaN</td>\n",
       "      <td>5.0</td>\n",
       "      <td>4.0</td>\n",
       "    </tr>\n",
       "    <tr>\n",
       "      <th>1</th>\n",
       "      <td>Bentley</td>\n",
       "      <td>Arnage</td>\n",
       "      <td>10_1</td>\n",
       "      <td>10_1$$2</td>\n",
       "      <td>2018</td>\n",
       "      <td>6</td>\n",
       "      <td>Grey</td>\n",
       "      <td>2002.0</td>\n",
       "      <td>Saloon</td>\n",
       "      <td>44000</td>\n",
       "      <td>...</td>\n",
       "      <td>450.0</td>\n",
       "      <td>315</td>\n",
       "      <td>3116.0</td>\n",
       "      <td>1515.0</td>\n",
       "      <td>2125.0</td>\n",
       "      <td>5390.0</td>\n",
       "      <td>13.7 mpg</td>\n",
       "      <td>179 mph</td>\n",
       "      <td>5.0</td>\n",
       "      <td>4.0</td>\n",
       "    </tr>\n",
       "    <tr>\n",
       "      <th>2</th>\n",
       "      <td>Bentley</td>\n",
       "      <td>Arnage</td>\n",
       "      <td>10_1</td>\n",
       "      <td>10_1$$3</td>\n",
       "      <td>2017</td>\n",
       "      <td>11</td>\n",
       "      <td>Blue</td>\n",
       "      <td>2002.0</td>\n",
       "      <td>Saloon</td>\n",
       "      <td>55000</td>\n",
       "      <td>...</td>\n",
       "      <td>400.0</td>\n",
       "      <td>315</td>\n",
       "      <td>3116.0</td>\n",
       "      <td>1515.0</td>\n",
       "      <td>2125.0</td>\n",
       "      <td>5390.0</td>\n",
       "      <td>14.7 mpg</td>\n",
       "      <td>155 mph</td>\n",
       "      <td>5.0</td>\n",
       "      <td>4.0</td>\n",
       "    </tr>\n",
       "    <tr>\n",
       "      <th>3</th>\n",
       "      <td>Bentley</td>\n",
       "      <td>Arnage</td>\n",
       "      <td>10_1</td>\n",
       "      <td>10_1$$4</td>\n",
       "      <td>2018</td>\n",
       "      <td>4</td>\n",
       "      <td>Green</td>\n",
       "      <td>2003.0</td>\n",
       "      <td>Saloon</td>\n",
       "      <td>14000</td>\n",
       "      <td>...</td>\n",
       "      <td>NaN</td>\n",
       "      <td>NaN</td>\n",
       "      <td>3116.0</td>\n",
       "      <td>1515.0</td>\n",
       "      <td>2125.0</td>\n",
       "      <td>5390.0</td>\n",
       "      <td>NaN</td>\n",
       "      <td>NaN</td>\n",
       "      <td>5.0</td>\n",
       "      <td>4.0</td>\n",
       "    </tr>\n",
       "    <tr>\n",
       "      <th>4</th>\n",
       "      <td>Bentley</td>\n",
       "      <td>Arnage</td>\n",
       "      <td>10_1</td>\n",
       "      <td>10_1$$5</td>\n",
       "      <td>2017</td>\n",
       "      <td>11</td>\n",
       "      <td>Grey</td>\n",
       "      <td>2003.0</td>\n",
       "      <td>Saloon</td>\n",
       "      <td>61652</td>\n",
       "      <td>...</td>\n",
       "      <td>NaN</td>\n",
       "      <td>NaN</td>\n",
       "      <td>3116.0</td>\n",
       "      <td>1515.0</td>\n",
       "      <td>2125.0</td>\n",
       "      <td>5390.0</td>\n",
       "      <td>NaN</td>\n",
       "      <td>NaN</td>\n",
       "      <td>5.0</td>\n",
       "      <td>4.0</td>\n",
       "    </tr>\n",
       "  </tbody>\n",
       "</table>\n",
       "<p>5 rows × 24 columns</p>\n",
       "</div>"
      ],
      "text/plain": [
       "     Maker  Genmodel  Genmodel_ID   Adv_ID  Adv_year  Adv_month   Color  \\\n",
       "0  Bentley    Arnage         10_1  10_1$$1      2018          4  Silver   \n",
       "1  Bentley    Arnage         10_1  10_1$$2      2018          6    Grey   \n",
       "2  Bentley    Arnage         10_1  10_1$$3      2017         11    Blue   \n",
       "3  Bentley    Arnage         10_1  10_1$$4      2018          4   Green   \n",
       "4  Bentley    Arnage         10_1  10_1$$5      2017         11    Grey   \n",
       "\n",
       "   Reg_year Bodytype Runned_Miles  ... Engine_power Annual_Tax Wheelbase  \\\n",
       "0    2000.0   Saloon        60000  ...          NaN        NaN    3116.0   \n",
       "1    2002.0   Saloon        44000  ...        450.0        315    3116.0   \n",
       "2    2002.0   Saloon        55000  ...        400.0        315    3116.0   \n",
       "3    2003.0   Saloon        14000  ...          NaN        NaN    3116.0   \n",
       "4    2003.0   Saloon        61652  ...          NaN        NaN    3116.0   \n",
       "\n",
       "   Height   Width  Length  Average_mpg  Top_speed  Seat_num  Door_num  \n",
       "0  1515.0  2125.0  5390.0          NaN        NaN       5.0       4.0  \n",
       "1  1515.0  2125.0  5390.0     13.7 mpg    179 mph       5.0       4.0  \n",
       "2  1515.0  2125.0  5390.0     14.7 mpg    155 mph       5.0       4.0  \n",
       "3  1515.0  2125.0  5390.0          NaN        NaN       5.0       4.0  \n",
       "4  1515.0  2125.0  5390.0          NaN        NaN       5.0       4.0  \n",
       "\n",
       "[5 rows x 24 columns]"
      ]
     },
     "execution_count": 20,
     "metadata": {},
     "output_type": "execute_result"
    }
   ],
   "source": [
    "adex = pd.read_csv(\"/Users/amandarichards25/Documents/GitHub/Auto_project/tables_V2/Ad_table (extra).csv\")\n",
    "adex.head()"
   ]
  },
  {
   "cell_type": "code",
   "execution_count": 21,
   "id": "cb678b06",
   "metadata": {},
   "outputs": [
    {
     "ename": "AttributeError",
     "evalue": "'DataFrame' object has no attribute 'df'",
     "output_type": "error",
     "traceback": [
      "\u001b[0;31m---------------------------------------------------------------------------\u001b[0m",
      "\u001b[0;31mAttributeError\u001b[0m                            Traceback (most recent call last)",
      "Input \u001b[0;32mIn [21]\u001b[0m, in \u001b[0;36m<cell line: 1>\u001b[0;34m()\u001b[0m\n\u001b[0;32m----> 1\u001b[0m \u001b[43madex\u001b[49m\u001b[38;5;241;43m.\u001b[39;49m\u001b[43mdf\u001b[49m\n",
      "File \u001b[0;32m~/opt/anaconda3/lib/python3.9/site-packages/pandas/core/generic.py:5575\u001b[0m, in \u001b[0;36mNDFrame.__getattr__\u001b[0;34m(self, name)\u001b[0m\n\u001b[1;32m   5568\u001b[0m \u001b[38;5;28;01mif\u001b[39;00m (\n\u001b[1;32m   5569\u001b[0m     name \u001b[38;5;129;01mnot\u001b[39;00m \u001b[38;5;129;01min\u001b[39;00m \u001b[38;5;28mself\u001b[39m\u001b[38;5;241m.\u001b[39m_internal_names_set\n\u001b[1;32m   5570\u001b[0m     \u001b[38;5;129;01mand\u001b[39;00m name \u001b[38;5;129;01mnot\u001b[39;00m \u001b[38;5;129;01min\u001b[39;00m \u001b[38;5;28mself\u001b[39m\u001b[38;5;241m.\u001b[39m_metadata\n\u001b[1;32m   5571\u001b[0m     \u001b[38;5;129;01mand\u001b[39;00m name \u001b[38;5;129;01mnot\u001b[39;00m \u001b[38;5;129;01min\u001b[39;00m \u001b[38;5;28mself\u001b[39m\u001b[38;5;241m.\u001b[39m_accessors\n\u001b[1;32m   5572\u001b[0m     \u001b[38;5;129;01mand\u001b[39;00m \u001b[38;5;28mself\u001b[39m\u001b[38;5;241m.\u001b[39m_info_axis\u001b[38;5;241m.\u001b[39m_can_hold_identifiers_and_holds_name(name)\n\u001b[1;32m   5573\u001b[0m ):\n\u001b[1;32m   5574\u001b[0m     \u001b[38;5;28;01mreturn\u001b[39;00m \u001b[38;5;28mself\u001b[39m[name]\n\u001b[0;32m-> 5575\u001b[0m \u001b[38;5;28;01mreturn\u001b[39;00m \u001b[38;5;28;43mobject\u001b[39;49m\u001b[38;5;241;43m.\u001b[39;49m\u001b[38;5;21;43m__getattribute__\u001b[39;49m\u001b[43m(\u001b[49m\u001b[38;5;28;43mself\u001b[39;49m\u001b[43m,\u001b[49m\u001b[43m \u001b[49m\u001b[43mname\u001b[49m\u001b[43m)\u001b[49m\n",
      "\u001b[0;31mAttributeError\u001b[0m: 'DataFrame' object has no attribute 'df'"
     ]
    }
   ],
   "source": []
  },
  {
   "cell_type": "code",
   "execution_count": null,
   "id": "8a3b30a5",
>>>>>>> Stashed changes
   "metadata": {},
   "outputs": [],
   "source": []
  }
 ],
 "metadata": {
  "kernelspec": {
   "display_name": "Python 3",
   "language": "python",
   "name": "python3"
  },
  "language_info": {
   "codemirror_mode": {
    "name": "ipython",
    "version": 3
   },
   "file_extension": ".py",
   "mimetype": "text/x-python",
   "name": "python",
   "nbconvert_exporter": "python",
   "pygments_lexer": "ipython3",
   "version": "3.9.12"
  }
 },
 "nbformat": 4,
 "nbformat_minor": 5
}
